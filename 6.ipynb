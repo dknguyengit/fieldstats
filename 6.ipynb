{
 "cells": [
  {
   "cell_type": "code",
   "execution_count": 2,
   "metadata": {},
   "outputs": [
    {
     "ename": "ERROR",
     "evalue": "Error in library(ggm): there is no package called ‘ggm’\n",
     "output_type": "error",
     "traceback": [
      "Error in library(ggm): there is no package called ‘ggm’\nTraceback:\n",
      "1. library(ggm)",
      "2. stop(txt, domain = NA)"
     ]
    }
   ],
   "source": [
    "library(boot)\n",
    "library(ggm)\n",
    "library(ggplot2)\n",
    "library(Hmisc)\n",
    "library(polycor)"
   ]
  },
  {
   "cell_type": "code",
   "execution_count": 3,
   "metadata": {},
   "outputs": [
    {
     "name": "stderr",
     "output_type": "stream",
     "text": [
      "Installing packages into ‘/home/khanhnd/R/x86_64-pc-linux-gnu-library/3.4’\n",
      "(as ‘lib’ is unspecified)\n",
      "also installing the dependencies ‘igraph’, ‘mvtnorm’\n",
      "\n"
     ]
    }
   ],
   "source": [
    "install.packages(c('ggm', 'polycor'))"
   ]
  },
  {
   "cell_type": "code",
   "execution_count": null,
   "metadata": {},
   "outputs": [],
   "source": []
  }
 ],
 "metadata": {
  "kernelspec": {
   "display_name": "R",
   "language": "R",
   "name": "ir"
  },
  "language_info": {
   "codemirror_mode": "r",
   "file_extension": ".r",
   "mimetype": "text/x-r-source",
   "name": "R",
   "pygments_lexer": "r",
   "version": "3.4.4"
  }
 },
 "nbformat": 4,
 "nbformat_minor": 2
}

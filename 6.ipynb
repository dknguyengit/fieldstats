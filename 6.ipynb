{
 "cells": [
  {
   "cell_type": "code",
   "execution_count": 14,
   "metadata": {},
   "outputs": [
    {
     "name": "stderr",
     "output_type": "stream",
     "text": [
      "Loading required package: igraph\n",
      "\n",
      "Attaching package: ‘igraph’\n",
      "\n",
      "The following objects are masked from ‘package:stats’:\n",
      "\n",
      "    decompose, spectrum\n",
      "\n",
      "The following object is masked from ‘package:base’:\n",
      "\n",
      "    union\n",
      "\n",
      "\n",
      "Attaching package: ‘ggm’\n",
      "\n",
      "The following object is masked from ‘package:igraph’:\n",
      "\n",
      "    pa\n",
      "\n",
      "Loading required package: lattice\n",
      "\n",
      "Attaching package: ‘lattice’\n",
      "\n",
      "The following object is masked from ‘package:boot’:\n",
      "\n",
      "    melanoma\n",
      "\n",
      "Loading required package: survival\n",
      "\n",
      "Attaching package: ‘survival’\n",
      "\n",
      "The following object is masked from ‘package:boot’:\n",
      "\n",
      "    aml\n",
      "\n",
      "Loading required package: Formula\n",
      "\n",
      "Attaching package: ‘Hmisc’\n",
      "\n",
      "The following object is masked from ‘package:ggm’:\n",
      "\n",
      "    rcorr\n",
      "\n",
      "The following objects are masked from ‘package:base’:\n",
      "\n",
      "    format.pval, units\n",
      "\n"
     ]
    }
   ],
   "source": [
    "library(boot)\n",
    "library(ggm)\n",
    "library(ggplot2)\n",
    "library(Hmisc)\n",
    "library(polycor)"
   ]
  },
  {
   "cell_type": "code",
   "execution_count": 3,
   "metadata": {},
   "outputs": [
    {
     "data": {
      "text/html": [
       "<ol class=list-inline>\n",
       "\t<li>103</li>\n",
       "\t<li>5</li>\n",
       "</ol>\n"
      ],
      "text/latex": [
       "\\begin{enumerate*}\n",
       "\\item 103\n",
       "\\item 5\n",
       "\\end{enumerate*}\n"
      ],
      "text/markdown": [
       "1. 103\n",
       "2. 5\n",
       "\n",
       "\n"
      ],
      "text/plain": [
       "[1] 103   5"
      ]
     },
     "metadata": {},
     "output_type": "display_data"
    }
   ],
   "source": [
    "examData = read.delim('data/Exam Anxiety.dat', header=TRUE)\n",
    "dim(examData)"
   ]
  },
  {
   "cell_type": "code",
   "execution_count": 4,
   "metadata": {},
   "outputs": [
    {
     "name": "stdout",
     "output_type": "stream",
     "text": [
      "'data.frame':\t103 obs. of  5 variables:\n",
      " $ Code   : int  1 2 3 4 5 6 7 8 9 10 ...\n",
      " $ Revise : int  4 11 27 53 4 22 16 21 25 18 ...\n",
      " $ Exam   : int  40 65 80 80 40 70 20 55 50 40 ...\n",
      " $ Anxiety: num  86.3 88.7 70.2 61.3 89.5 ...\n",
      " $ Gender : Factor w/ 2 levels \"Female\",\"Male\": 2 1 2 2 2 1 1 1 1 1 ...\n"
     ]
    }
   ],
   "source": [
    "str(examData)"
   ]
  },
  {
   "cell_type": "code",
   "execution_count": 5,
   "metadata": {},
   "outputs": [],
   "source": [
    "examData2 = examData[, c('Exam', 'Anxiety', 'Revise')]"
   ]
  },
  {
   "cell_type": "code",
   "execution_count": 6,
   "metadata": {},
   "outputs": [
    {
     "data": {
      "text/html": [
       "<table>\n",
       "<thead><tr><th></th><th scope=col>Exam</th><th scope=col>Anxiety</th><th scope=col>Revise</th></tr></thead>\n",
       "<tbody>\n",
       "\t<tr><th scope=row>Exam</th><td> 1.0000000</td><td>-0.4409934</td><td> 0.3967207</td></tr>\n",
       "\t<tr><th scope=row>Anxiety</th><td>-0.4409934</td><td> 1.0000000</td><td>-0.7092493</td></tr>\n",
       "\t<tr><th scope=row>Revise</th><td> 0.3967207</td><td>-0.7092493</td><td> 1.0000000</td></tr>\n",
       "</tbody>\n",
       "</table>\n"
      ],
      "text/latex": [
       "\\begin{tabular}{r|lll}\n",
       "  & Exam & Anxiety & Revise\\\\\n",
       "\\hline\n",
       "\tExam &  1.0000000 & -0.4409934 &  0.3967207\\\\\n",
       "\tAnxiety & -0.4409934 &  1.0000000 & -0.7092493\\\\\n",
       "\tRevise &  0.3967207 & -0.7092493 &  1.0000000\\\\\n",
       "\\end{tabular}\n"
      ],
      "text/markdown": [
       "\n",
       "| <!--/--> | Exam | Anxiety | Revise | \n",
       "|---|---|---|\n",
       "| Exam |  1.0000000 | -0.4409934 |  0.3967207 | \n",
       "| Anxiety | -0.4409934 |  1.0000000 | -0.7092493 | \n",
       "| Revise |  0.3967207 | -0.7092493 |  1.0000000 | \n",
       "\n",
       "\n"
      ],
      "text/plain": [
       "        Exam       Anxiety    Revise    \n",
       "Exam     1.0000000 -0.4409934  0.3967207\n",
       "Anxiety -0.4409934  1.0000000 -0.7092493\n",
       "Revise   0.3967207 -0.7092493  1.0000000"
      ]
     },
     "metadata": {},
     "output_type": "display_data"
    }
   ],
   "source": [
    "cor(examData2)"
   ]
  },
  {
   "cell_type": "code",
   "execution_count": 9,
   "metadata": {},
   "outputs": [
    {
     "data": {
      "text/plain": [
       "         Exam Anxiety Revise\n",
       "Exam     1.00   -0.44   0.40\n",
       "Anxiety -0.44    1.00  -0.71\n",
       "Revise   0.40   -0.71   1.00\n",
       "\n",
       "n= 103 \n",
       "\n",
       "\n",
       "P\n",
       "        Exam Anxiety Revise\n",
       "Exam          0       0    \n",
       "Anxiety  0            0    \n",
       "Revise   0    0            "
      ]
     },
     "metadata": {},
     "output_type": "display_data"
    }
   ],
   "source": [
    "rcorr(as.matrix(examData2))"
   ]
  },
  {
   "cell_type": "code",
   "execution_count": 10,
   "metadata": {},
   "outputs": [
    {
     "data": {
      "text/plain": [
       "\n",
       "\tPearson's product-moment correlation\n",
       "\n",
       "data:  examData$Anxiety and examData$Exam\n",
       "t = -4.938, df = 101, p-value = 3.128e-06\n",
       "alternative hypothesis: true correlation is not equal to 0\n",
       "95 percent confidence interval:\n",
       " -0.5846244 -0.2705591\n",
       "sample estimates:\n",
       "       cor \n",
       "-0.4409934 \n"
      ]
     },
     "metadata": {},
     "output_type": "display_data"
    }
   ],
   "source": [
    "cor.test(examData$Anxiety, examData$Exam)"
   ]
  },
  {
   "cell_type": "markdown",
   "metadata": {},
   "source": [
    "### 6.5.5. Spearman's correlation coefficient"
   ]
  },
  {
   "cell_type": "code",
   "execution_count": 11,
   "metadata": {},
   "outputs": [],
   "source": [
    "liarData = read.delim('data/The Biggest Liar.dat', header=TRUE)"
   ]
  },
  {
   "cell_type": "code",
   "execution_count": 12,
   "metadata": {},
   "outputs": [
    {
     "data": {
      "text/html": [
       "<table>\n",
       "<thead><tr><th scope=col>Creativity</th><th scope=col>Position</th><th scope=col>Novice</th></tr></thead>\n",
       "<tbody>\n",
       "\t<tr><td>53</td><td>1 </td><td>0 </td></tr>\n",
       "\t<tr><td>36</td><td>3 </td><td>1 </td></tr>\n",
       "\t<tr><td>31</td><td>4 </td><td>0 </td></tr>\n",
       "\t<tr><td>43</td><td>2 </td><td>0 </td></tr>\n",
       "\t<tr><td>30</td><td>4 </td><td>1 </td></tr>\n",
       "\t<tr><td>41</td><td>1 </td><td>0 </td></tr>\n",
       "\t<tr><td>32</td><td>4 </td><td>0 </td></tr>\n",
       "\t<tr><td>54</td><td>1 </td><td>1 </td></tr>\n",
       "\t<tr><td>47</td><td>2 </td><td>1 </td></tr>\n",
       "\t<tr><td>50</td><td>2 </td><td>0 </td></tr>\n",
       "\t<tr><td>56</td><td>1 </td><td>0 </td></tr>\n",
       "\t<tr><td>50</td><td>1 </td><td>0 </td></tr>\n",
       "\t<tr><td>34</td><td>1 </td><td>1 </td></tr>\n",
       "\t<tr><td>41</td><td>4 </td><td>0 </td></tr>\n",
       "\t<tr><td>52</td><td>5 </td><td>0 </td></tr>\n",
       "\t<tr><td>38</td><td>1 </td><td>0 </td></tr>\n",
       "\t<tr><td>35</td><td>2 </td><td>1 </td></tr>\n",
       "\t<tr><td>35</td><td>3 </td><td>1 </td></tr>\n",
       "\t<tr><td>48</td><td>1 </td><td>0 </td></tr>\n",
       "\t<tr><td>38</td><td>1 </td><td>1 </td></tr>\n",
       "\t<tr><td>43</td><td>2 </td><td>1 </td></tr>\n",
       "\t<tr><td>38</td><td>3 </td><td>1 </td></tr>\n",
       "\t<tr><td>39</td><td>1 </td><td>1 </td></tr>\n",
       "\t<tr><td>51</td><td>1 </td><td>0 </td></tr>\n",
       "\t<tr><td>26</td><td>3 </td><td>0 </td></tr>\n",
       "\t<tr><td>31</td><td>4 </td><td>1 </td></tr>\n",
       "\t<tr><td>45</td><td>1 </td><td>0 </td></tr>\n",
       "\t<tr><td>31</td><td>3 </td><td>0 </td></tr>\n",
       "\t<tr><td>34</td><td>2 </td><td>1 </td></tr>\n",
       "\t<tr><td>35</td><td>5 </td><td>1 </td></tr>\n",
       "\t<tr><td>⋮</td><td>⋮</td><td>⋮</td></tr>\n",
       "\t<tr><td>36</td><td>2 </td><td>1 </td></tr>\n",
       "\t<tr><td>26</td><td>1 </td><td>1 </td></tr>\n",
       "\t<tr><td>41</td><td>1 </td><td>1 </td></tr>\n",
       "\t<tr><td>50</td><td>6 </td><td>1 </td></tr>\n",
       "\t<tr><td>43</td><td>1 </td><td>0 </td></tr>\n",
       "\t<tr><td>54</td><td>2 </td><td>0 </td></tr>\n",
       "\t<tr><td>39</td><td>1 </td><td>1 </td></tr>\n",
       "\t<tr><td>51</td><td>2 </td><td>0 </td></tr>\n",
       "\t<tr><td>47</td><td>1 </td><td>0 </td></tr>\n",
       "\t<tr><td>38</td><td>3 </td><td>1 </td></tr>\n",
       "\t<tr><td>32</td><td>1 </td><td>0 </td></tr>\n",
       "\t<tr><td>28</td><td>4 </td><td>1 </td></tr>\n",
       "\t<tr><td>39</td><td>1 </td><td>0 </td></tr>\n",
       "\t<tr><td>42</td><td>1 </td><td>1 </td></tr>\n",
       "\t<tr><td>44</td><td>2 </td><td>0 </td></tr>\n",
       "\t<tr><td>21</td><td>5 </td><td>1 </td></tr>\n",
       "\t<tr><td>43</td><td>1 </td><td>1 </td></tr>\n",
       "\t<tr><td>39</td><td>3 </td><td>1 </td></tr>\n",
       "\t<tr><td>42</td><td>1 </td><td>1 </td></tr>\n",
       "\t<tr><td>35</td><td>2 </td><td>0 </td></tr>\n",
       "\t<tr><td>52</td><td>1 </td><td>0 </td></tr>\n",
       "\t<tr><td>39</td><td>1 </td><td>0 </td></tr>\n",
       "\t<tr><td>45</td><td>1 </td><td>0 </td></tr>\n",
       "\t<tr><td>25</td><td>4 </td><td>1 </td></tr>\n",
       "\t<tr><td>41</td><td>1 </td><td>1 </td></tr>\n",
       "\t<tr><td>35</td><td>3 </td><td>1 </td></tr>\n",
       "\t<tr><td>27</td><td>3 </td><td>0 </td></tr>\n",
       "\t<tr><td>44</td><td>4 </td><td>0 </td></tr>\n",
       "\t<tr><td>37</td><td>3 </td><td>1 </td></tr>\n",
       "\t<tr><td>40</td><td>1 </td><td>1 </td></tr>\n",
       "</tbody>\n",
       "</table>\n"
      ],
      "text/latex": [
       "\\begin{tabular}{r|lll}\n",
       " Creativity & Position & Novice\\\\\n",
       "\\hline\n",
       "\t 53 & 1  & 0 \\\\\n",
       "\t 36 & 3  & 1 \\\\\n",
       "\t 31 & 4  & 0 \\\\\n",
       "\t 43 & 2  & 0 \\\\\n",
       "\t 30 & 4  & 1 \\\\\n",
       "\t 41 & 1  & 0 \\\\\n",
       "\t 32 & 4  & 0 \\\\\n",
       "\t 54 & 1  & 1 \\\\\n",
       "\t 47 & 2  & 1 \\\\\n",
       "\t 50 & 2  & 0 \\\\\n",
       "\t 56 & 1  & 0 \\\\\n",
       "\t 50 & 1  & 0 \\\\\n",
       "\t 34 & 1  & 1 \\\\\n",
       "\t 41 & 4  & 0 \\\\\n",
       "\t 52 & 5  & 0 \\\\\n",
       "\t 38 & 1  & 0 \\\\\n",
       "\t 35 & 2  & 1 \\\\\n",
       "\t 35 & 3  & 1 \\\\\n",
       "\t 48 & 1  & 0 \\\\\n",
       "\t 38 & 1  & 1 \\\\\n",
       "\t 43 & 2  & 1 \\\\\n",
       "\t 38 & 3  & 1 \\\\\n",
       "\t 39 & 1  & 1 \\\\\n",
       "\t 51 & 1  & 0 \\\\\n",
       "\t 26 & 3  & 0 \\\\\n",
       "\t 31 & 4  & 1 \\\\\n",
       "\t 45 & 1  & 0 \\\\\n",
       "\t 31 & 3  & 0 \\\\\n",
       "\t 34 & 2  & 1 \\\\\n",
       "\t 35 & 5  & 1 \\\\\n",
       "\t ⋮ & ⋮ & ⋮\\\\\n",
       "\t 36 & 2  & 1 \\\\\n",
       "\t 26 & 1  & 1 \\\\\n",
       "\t 41 & 1  & 1 \\\\\n",
       "\t 50 & 6  & 1 \\\\\n",
       "\t 43 & 1  & 0 \\\\\n",
       "\t 54 & 2  & 0 \\\\\n",
       "\t 39 & 1  & 1 \\\\\n",
       "\t 51 & 2  & 0 \\\\\n",
       "\t 47 & 1  & 0 \\\\\n",
       "\t 38 & 3  & 1 \\\\\n",
       "\t 32 & 1  & 0 \\\\\n",
       "\t 28 & 4  & 1 \\\\\n",
       "\t 39 & 1  & 0 \\\\\n",
       "\t 42 & 1  & 1 \\\\\n",
       "\t 44 & 2  & 0 \\\\\n",
       "\t 21 & 5  & 1 \\\\\n",
       "\t 43 & 1  & 1 \\\\\n",
       "\t 39 & 3  & 1 \\\\\n",
       "\t 42 & 1  & 1 \\\\\n",
       "\t 35 & 2  & 0 \\\\\n",
       "\t 52 & 1  & 0 \\\\\n",
       "\t 39 & 1  & 0 \\\\\n",
       "\t 45 & 1  & 0 \\\\\n",
       "\t 25 & 4  & 1 \\\\\n",
       "\t 41 & 1  & 1 \\\\\n",
       "\t 35 & 3  & 1 \\\\\n",
       "\t 27 & 3  & 0 \\\\\n",
       "\t 44 & 4  & 0 \\\\\n",
       "\t 37 & 3  & 1 \\\\\n",
       "\t 40 & 1  & 1 \\\\\n",
       "\\end{tabular}\n"
      ],
      "text/markdown": [
       "\n",
       "Creativity | Position | Novice | \n",
       "|---|---|---|---|---|---|---|---|---|---|---|---|---|---|---|---|---|---|---|---|---|---|---|---|---|---|---|---|---|---|---|---|---|---|---|---|---|---|---|---|---|---|---|---|---|---|---|---|---|---|---|---|---|---|---|---|---|---|---|---|---|\n",
       "| 53 | 1  | 0  | \n",
       "| 36 | 3  | 1  | \n",
       "| 31 | 4  | 0  | \n",
       "| 43 | 2  | 0  | \n",
       "| 30 | 4  | 1  | \n",
       "| 41 | 1  | 0  | \n",
       "| 32 | 4  | 0  | \n",
       "| 54 | 1  | 1  | \n",
       "| 47 | 2  | 1  | \n",
       "| 50 | 2  | 0  | \n",
       "| 56 | 1  | 0  | \n",
       "| 50 | 1  | 0  | \n",
       "| 34 | 1  | 1  | \n",
       "| 41 | 4  | 0  | \n",
       "| 52 | 5  | 0  | \n",
       "| 38 | 1  | 0  | \n",
       "| 35 | 2  | 1  | \n",
       "| 35 | 3  | 1  | \n",
       "| 48 | 1  | 0  | \n",
       "| 38 | 1  | 1  | \n",
       "| 43 | 2  | 1  | \n",
       "| 38 | 3  | 1  | \n",
       "| 39 | 1  | 1  | \n",
       "| 51 | 1  | 0  | \n",
       "| 26 | 3  | 0  | \n",
       "| 31 | 4  | 1  | \n",
       "| 45 | 1  | 0  | \n",
       "| 31 | 3  | 0  | \n",
       "| 34 | 2  | 1  | \n",
       "| 35 | 5  | 1  | \n",
       "| ⋮ | ⋮ | ⋮ | \n",
       "| 36 | 2  | 1  | \n",
       "| 26 | 1  | 1  | \n",
       "| 41 | 1  | 1  | \n",
       "| 50 | 6  | 1  | \n",
       "| 43 | 1  | 0  | \n",
       "| 54 | 2  | 0  | \n",
       "| 39 | 1  | 1  | \n",
       "| 51 | 2  | 0  | \n",
       "| 47 | 1  | 0  | \n",
       "| 38 | 3  | 1  | \n",
       "| 32 | 1  | 0  | \n",
       "| 28 | 4  | 1  | \n",
       "| 39 | 1  | 0  | \n",
       "| 42 | 1  | 1  | \n",
       "| 44 | 2  | 0  | \n",
       "| 21 | 5  | 1  | \n",
       "| 43 | 1  | 1  | \n",
       "| 39 | 3  | 1  | \n",
       "| 42 | 1  | 1  | \n",
       "| 35 | 2  | 0  | \n",
       "| 52 | 1  | 0  | \n",
       "| 39 | 1  | 0  | \n",
       "| 45 | 1  | 0  | \n",
       "| 25 | 4  | 1  | \n",
       "| 41 | 1  | 1  | \n",
       "| 35 | 3  | 1  | \n",
       "| 27 | 3  | 0  | \n",
       "| 44 | 4  | 0  | \n",
       "| 37 | 3  | 1  | \n",
       "| 40 | 1  | 1  | \n",
       "\n",
       "\n"
      ],
      "text/plain": [
       "   Creativity Position Novice\n",
       "1  53         1        0     \n",
       "2  36         3        1     \n",
       "3  31         4        0     \n",
       "4  43         2        0     \n",
       "5  30         4        1     \n",
       "6  41         1        0     \n",
       "7  32         4        0     \n",
       "8  54         1        1     \n",
       "9  47         2        1     \n",
       "10 50         2        0     \n",
       "11 56         1        0     \n",
       "12 50         1        0     \n",
       "13 34         1        1     \n",
       "14 41         4        0     \n",
       "15 52         5        0     \n",
       "16 38         1        0     \n",
       "17 35         2        1     \n",
       "18 35         3        1     \n",
       "19 48         1        0     \n",
       "20 38         1        1     \n",
       "21 43         2        1     \n",
       "22 38         3        1     \n",
       "23 39         1        1     \n",
       "24 51         1        0     \n",
       "25 26         3        0     \n",
       "26 31         4        1     \n",
       "27 45         1        0     \n",
       "28 31         3        0     \n",
       "29 34         2        1     \n",
       "30 35         5        1     \n",
       "⋮  ⋮          ⋮        ⋮     \n",
       "39 36         2        1     \n",
       "40 26         1        1     \n",
       "41 41         1        1     \n",
       "42 50         6        1     \n",
       "43 43         1        0     \n",
       "44 54         2        0     \n",
       "45 39         1        1     \n",
       "46 51         2        0     \n",
       "47 47         1        0     \n",
       "48 38         3        1     \n",
       "49 32         1        0     \n",
       "50 28         4        1     \n",
       "51 39         1        0     \n",
       "52 42         1        1     \n",
       "53 44         2        0     \n",
       "54 21         5        1     \n",
       "55 43         1        1     \n",
       "56 39         3        1     \n",
       "57 42         1        1     \n",
       "58 35         2        0     \n",
       "59 52         1        0     \n",
       "60 39         1        0     \n",
       "61 45         1        0     \n",
       "62 25         4        1     \n",
       "63 41         1        1     \n",
       "64 35         3        1     \n",
       "65 27         3        0     \n",
       "66 44         4        0     \n",
       "67 37         3        1     \n",
       "68 40         1        1     "
      ]
     },
     "metadata": {},
     "output_type": "display_data"
    }
   ],
   "source": [
    "liarData"
   ]
  },
  {
   "cell_type": "code",
   "execution_count": 14,
   "metadata": {},
   "outputs": [
    {
     "data": {
      "text/html": [
       "-0.373218381287678"
      ],
      "text/latex": [
       "-0.373218381287678"
      ],
      "text/markdown": [
       "-0.373218381287678"
      ],
      "text/plain": [
       "[1] -0.3732184"
      ]
     },
     "metadata": {},
     "output_type": "display_data"
    }
   ],
   "source": [
    "cor(liarData$Position, liarData$Creativity, method='spearman')"
   ]
  },
  {
   "cell_type": "code",
   "execution_count": 15,
   "metadata": {},
   "outputs": [
    {
     "data": {
      "text/plain": [
       "           Position Creativity\n",
       "Position       1.00      -0.31\n",
       "Creativity    -0.31       1.00\n",
       "\n",
       "n= 68 \n",
       "\n",
       "\n",
       "P\n",
       "           Position Creativity\n",
       "Position            0.0111    \n",
       "Creativity 0.0111             "
      ]
     },
     "metadata": {},
     "output_type": "display_data"
    }
   ],
   "source": [
    "liarMatrix = as.matrix(liarData[, c('Position', 'Creativity')])\n",
    "rcorr(liarMatrix)"
   ]
  },
  {
   "cell_type": "code",
   "execution_count": 18,
   "metadata": {},
   "outputs": [
    {
     "name": "stderr",
     "output_type": "stream",
     "text": [
      "Warning message in cor.test.default(liarData$Creativity, liarData$Position, alternative = \"less\", :\n",
      "“Cannot compute exact p-value with ties”"
     ]
    },
    {
     "data": {
      "text/plain": [
       "\n",
       "\tSpearman's rank correlation rho\n",
       "\n",
       "data:  liarData$Creativity and liarData$Position\n",
       "S = 71948, p-value = 0.0008602\n",
       "alternative hypothesis: true rho is less than 0\n",
       "sample estimates:\n",
       "       rho \n",
       "-0.3732184 \n"
      ]
     },
     "metadata": {},
     "output_type": "display_data"
    }
   ],
   "source": [
    "cor.test(liarData$Creativity, liarData$Position, alternative='less', method='spearman')"
   ]
  },
  {
   "cell_type": "code",
   "execution_count": 19,
   "metadata": {},
   "outputs": [
    {
     "data": {
      "text/html": [
       "-0.300241308065175"
      ],
      "text/latex": [
       "-0.300241308065175"
      ],
      "text/markdown": [
       "-0.300241308065175"
      ],
      "text/plain": [
       "[1] -0.3002413"
      ]
     },
     "metadata": {},
     "output_type": "display_data"
    }
   ],
   "source": [
    "cor(liarData$Position, liarData$Creativity, method='kendall')"
   ]
  },
  {
   "cell_type": "code",
   "execution_count": 20,
   "metadata": {},
   "outputs": [
    {
     "data": {
      "text/plain": [
       "\n",
       "\tKendall's rank correlation tau\n",
       "\n",
       "data:  liarData$Creativity and liarData$Position\n",
       "z = -3.2252, p-value = 0.0006294\n",
       "alternative hypothesis: true tau is less than 0\n",
       "sample estimates:\n",
       "       tau \n",
       "-0.3002413 \n"
      ]
     },
     "metadata": {},
     "output_type": "display_data"
    }
   ],
   "source": [
    "cor.test(liarData$Creativity, liarData$Position, alternative='less', method='kendall')"
   ]
  },
  {
   "cell_type": "code",
   "execution_count": 21,
   "metadata": {},
   "outputs": [],
   "source": [
    "bootTau = function(liarData, i) {\n",
    "    cor(liarData$Position[i], liarData$Creativity[i],\n",
    "        use='complete.obs', method='kendall')\n",
    "    }"
   ]
  },
  {
   "cell_type": "code",
   "execution_count": 22,
   "metadata": {},
   "outputs": [],
   "source": [
    "library(boot)"
   ]
  },
  {
   "cell_type": "code",
   "execution_count": 23,
   "metadata": {},
   "outputs": [],
   "source": [
    "boot_kendall = boot(liarData, bootTau, 2000)"
   ]
  },
  {
   "cell_type": "code",
   "execution_count": 24,
   "metadata": {},
   "outputs": [
    {
     "data": {
      "text/plain": [
       "\n",
       "ORDINARY NONPARAMETRIC BOOTSTRAP\n",
       "\n",
       "\n",
       "Call:\n",
       "boot(data = liarData, statistic = bootTau, R = 2000)\n",
       "\n",
       "\n",
       "Bootstrap Statistics :\n",
       "      original       bias    std. error\n",
       "t1* -0.3002413 -0.005208989    0.096524"
      ]
     },
     "metadata": {},
     "output_type": "display_data"
    }
   ],
   "source": [
    "boot_kendall"
   ]
  },
  {
   "cell_type": "code",
   "execution_count": 25,
   "metadata": {},
   "outputs": [
    {
     "name": "stderr",
     "output_type": "stream",
     "text": [
      "Warning message in boot.ci(boot_kendall):\n",
      "“bootstrap variances needed for studentized intervals”"
     ]
    },
    {
     "data": {
      "text/plain": [
       "BOOTSTRAP CONFIDENCE INTERVAL CALCULATIONS\n",
       "Based on 2000 bootstrap replicates\n",
       "\n",
       "CALL : \n",
       "boot.ci(boot.out = boot_kendall)\n",
       "\n",
       "Intervals : \n",
       "Level      Normal              Basic         \n",
       "95%   (-0.4842, -0.1058 )   (-0.4864, -0.1091 )  \n",
       "\n",
       "Level     Percentile            BCa          \n",
       "95%   (-0.4913, -0.1141 )   (-0.4653, -0.0646 )  \n",
       "Calculations and Intervals on Original Scale"
      ]
     },
     "metadata": {},
     "output_type": "display_data"
    }
   ],
   "source": [
    "boot.ci(boot_kendall)"
   ]
  },
  {
   "cell_type": "markdown",
   "metadata": {},
   "source": [
    "## 6.5.8 Biserial and point-biserial correlations"
   ]
  },
  {
   "cell_type": "code",
   "execution_count": 1,
   "metadata": {},
   "outputs": [],
   "source": [
    "catData = read.csv('data/pbcorr.csv', header=TRUE)"
   ]
  },
  {
   "cell_type": "code",
   "execution_count": 7,
   "metadata": {},
   "outputs": [
    {
     "data": {
      "text/plain": [
       "\n",
       "\tPearson's product-moment correlation\n",
       "\n",
       "data:  catData$time and catData$gender\n",
       "t = 3.1138, df = 58, p-value = 0.002868\n",
       "alternative hypothesis: true correlation is not equal to 0\n",
       "95 percent confidence interval:\n",
       " 0.137769 0.576936\n",
       "sample estimates:\n",
       "      cor \n",
       "0.3784542 \n"
      ]
     },
     "metadata": {},
     "output_type": "display_data"
    }
   ],
   "source": [
    "cor.test(catData$time, catData$gender)"
   ]
  },
  {
   "cell_type": "code",
   "execution_count": 10,
   "metadata": {},
   "outputs": [],
   "source": [
    "catFrequencies = table(catData$gender)"
   ]
  },
  {
   "cell_type": "code",
   "execution_count": 12,
   "metadata": {},
   "outputs": [
    {
     "data": {
      "text/plain": [
       "\n",
       "        0         1 \n",
       "0.5333333 0.4666667 "
      ]
     },
     "metadata": {},
     "output_type": "display_data"
    }
   ],
   "source": [
    "prop.table(catFrequencies)"
   ]
  },
  {
   "cell_type": "code",
   "execution_count": 15,
   "metadata": {},
   "outputs": [
    {
     "data": {
      "text/html": [
       "0.474925607546145"
      ],
      "text/latex": [
       "0.474925607546145"
      ],
      "text/markdown": [
       "0.474925607546145"
      ],
      "text/plain": [
       "[1] 0.4749256"
      ]
     },
     "metadata": {},
     "output_type": "display_data"
    }
   ],
   "source": [
    "polyserial(catData$time, catData$gender)"
   ]
  },
  {
   "cell_type": "markdown",
   "metadata": {},
   "source": [
    "## 6.6.2 Partial correlation using R"
   ]
  },
  {
   "cell_type": "code",
   "execution_count": 16,
   "metadata": {},
   "outputs": [],
   "source": [
    "examData = read.delim('data/Exam Anxiety.dat', header=TRUE)\n",
    "examData2 = examData[, c('Exam', 'Anxiety', 'Revise')]"
   ]
  },
  {
   "cell_type": "code",
   "execution_count": 19,
   "metadata": {},
   "outputs": [],
   "source": [
    "pc = pcor(c('Exam', 'Anxiety', 'Revise'), var(examData2))"
   ]
  },
  {
   "cell_type": "code",
   "execution_count": 22,
   "metadata": {},
   "outputs": [
    {
     "data": {
      "text/html": [
       "<dl>\n",
       "\t<dt>$tval</dt>\n",
       "\t\t<dd>-2.5453066505129</dd>\n",
       "\t<dt>$df</dt>\n",
       "\t\t<dd>100</dd>\n",
       "\t<dt>$pvalue</dt>\n",
       "\t\t<dd>0.0124458135120866</dd>\n",
       "</dl>\n"
      ],
      "text/latex": [
       "\\begin{description}\n",
       "\\item[\\$tval] -2.5453066505129\n",
       "\\item[\\$df] 100\n",
       "\\item[\\$pvalue] 0.0124458135120866\n",
       "\\end{description}\n"
      ],
      "text/markdown": [
       "$tval\n",
       ":   -2.5453066505129\n",
       "$df\n",
       ":   100\n",
       "$pvalue\n",
       ":   0.0124458135120866\n",
       "\n",
       "\n"
      ],
      "text/plain": [
       "$tval\n",
       "[1] -2.545307\n",
       "\n",
       "$df\n",
       "[1] 100\n",
       "\n",
       "$pvalue\n",
       "[1] 0.01244581\n"
      ]
     },
     "metadata": {},
     "output_type": "display_data"
    }
   ],
   "source": [
    "pcor.test(pc, 1, 103)"
   ]
  },
  {
   "cell_type": "markdown",
   "metadata": {},
   "source": [
    "# 6.7 Comparing correlations\n",
    "## 6.7.1 Comparing independent rs"
   ]
  },
  {
   "cell_type": "code",
   "execution_count": 29,
   "metadata": {},
   "outputs": [],
   "source": [
    "maleData = subset(examData, Gender=='Male')\n",
    "femaleData = subset(examData, Gender=='Female')"
   ]
  },
  {
   "cell_type": "code",
   "execution_count": 35,
   "metadata": {},
   "outputs": [
    {
     "data": {
      "text/plain": [
       "\n",
       "\tPearson's product-moment correlation\n",
       "\n",
       "data:  maleData$Anxiety and maleData$Exam\n",
       "t = -4.1448, df = 50, p-value = 0.0001313\n",
       "alternative hypothesis: true correlation is not equal to 0\n",
       "95 percent confidence interval:\n",
       " -0.6841707 -0.2700554\n",
       "sample estimates:\n",
       "       cor \n",
       "-0.5056874 \n"
      ]
     },
     "metadata": {},
     "output_type": "display_data"
    }
   ],
   "source": [
    "cor.test(maleData$Anxiety, maleData$Exam)"
   ]
  },
  {
   "cell_type": "code",
   "execution_count": 37,
   "metadata": {},
   "outputs": [
    {
     "data": {
      "text/html": [
       "-0.120220408163265"
      ],
      "text/latex": [
       "-0.120220408163265"
      ],
      "text/markdown": [
       "-0.120220408163265"
      ],
      "text/plain": [
       "[1] -0.1202204"
      ]
     },
     "metadata": {},
     "output_type": "display_data"
    }
   ],
   "source": [
    "(-0.5056874 - (-0.2700554)) / 1.96"
   ]
  },
  {
   "cell_type": "code",
   "execution_count": 32,
   "metadata": {},
   "outputs": [
    {
     "data": {
      "text/html": [
       "-0.381384505927721"
      ],
      "text/latex": [
       "-0.381384505927721"
      ],
      "text/markdown": [
       "-0.381384505927721"
      ],
      "text/plain": [
       "[1] -0.3813845"
      ]
     },
     "metadata": {},
     "output_type": "display_data"
    }
   ],
   "source": [
    "cor(femaleData$Anxiety, femaleData$Exam)"
   ]
  },
  {
   "cell_type": "code",
   "execution_count": null,
   "metadata": {},
   "outputs": [],
   "source": []
  }
 ],
 "metadata": {
  "kernelspec": {
   "display_name": "R",
   "language": "R",
   "name": "ir"
  },
  "language_info": {
   "codemirror_mode": "r",
   "file_extension": ".r",
   "mimetype": "text/x-r-source",
   "name": "R",
   "pygments_lexer": "r",
   "version": "3.4.4"
  }
 },
 "nbformat": 4,
 "nbformat_minor": 2
}

{
 "cells": [
  {
   "cell_type": "code",
   "execution_count": 1,
   "metadata": {},
   "outputs": [
    {
     "name": "stderr",
     "output_type": "stream",
     "text": [
      "Installing package into ‘/home/khanhnd/R/x86_64-pc-linux-gnu-library/3.4’\n",
      "(as ‘lib’ is unspecified)\n"
     ]
    }
   ],
   "source": [
    "install.packages('QuantPsyc')"
   ]
  },
  {
   "cell_type": "code",
   "execution_count": 4,
   "metadata": {},
   "outputs": [],
   "source": [
    "library(boot, car, QuantPsyc)"
   ]
  },
  {
   "cell_type": "code",
   "execution_count": 5,
   "metadata": {},
   "outputs": [],
   "source": [
    "album1 = read.delim('data/Album Sales 1.dat', header=TRUE)"
   ]
  },
  {
   "cell_type": "code",
   "execution_count": 6,
   "metadata": {},
   "outputs": [],
   "source": [
    "albumSales.1 = lm(sales ~ adverts, data=album1, na.action=na.exclude)"
   ]
  },
  {
   "cell_type": "code",
   "execution_count": 7,
   "metadata": {
    "scrolled": true
   },
   "outputs": [
    {
     "data": {
      "text/plain": [
       "\n",
       "Call:\n",
       "lm(formula = sales ~ adverts, data = album1, na.action = na.exclude)\n",
       "\n",
       "Residuals:\n",
       "     Min       1Q   Median       3Q      Max \n",
       "-152.949  -43.796   -0.393   37.040  211.866 \n",
       "\n",
       "Coefficients:\n",
       "             Estimate Std. Error t value Pr(>|t|)    \n",
       "(Intercept) 1.341e+02  7.537e+00  17.799   <2e-16 ***\n",
       "adverts     9.612e-02  9.632e-03   9.979   <2e-16 ***\n",
       "---\n",
       "Signif. codes:  0 ‘***’ 0.001 ‘**’ 0.01 ‘*’ 0.05 ‘.’ 0.1 ‘ ’ 1\n",
       "\n",
       "Residual standard error: 65.99 on 198 degrees of freedom\n",
       "Multiple R-squared:  0.3346,\tAdjusted R-squared:  0.3313 \n",
       "F-statistic: 99.59 on 1 and 198 DF,  p-value: < 2.2e-16\n"
      ]
     },
     "metadata": {},
     "output_type": "display_data"
    }
   ],
   "source": [
    "summary(albumSales.1)"
   ]
  },
  {
   "cell_type": "code",
   "execution_count": 10,
   "metadata": {},
   "outputs": [
    {
     "data": {
      "text/html": [
       "0.578487741981689"
      ],
      "text/latex": [
       "0.578487741981689"
      ],
      "text/markdown": [
       "0.578487741981689"
      ],
      "text/plain": [
       "[1] 0.5784877"
      ]
     },
     "metadata": {},
     "output_type": "display_data"
    }
   ],
   "source": [
    "cor(album1$sales, album1$adverts)"
   ]
  },
  {
   "cell_type": "markdown",
   "metadata": {},
   "source": [
    "# 7.8 Multiple regression"
   ]
  },
  {
   "cell_type": "code",
   "execution_count": 1,
   "metadata": {},
   "outputs": [],
   "source": [
    "album2 = read.delim('data/Album Sales 2.dat', header=TRUE)"
   ]
  },
  {
   "cell_type": "code",
   "execution_count": 2,
   "metadata": {},
   "outputs": [
    {
     "data": {
      "text/html": [
       "<table>\n",
       "<thead><tr><th scope=col>adverts</th><th scope=col>sales</th><th scope=col>airplay</th><th scope=col>attract</th></tr></thead>\n",
       "<tbody>\n",
       "\t<tr><td>  10.256</td><td>330     </td><td>43      </td><td>10      </td></tr>\n",
       "\t<tr><td> 985.685</td><td>120     </td><td>28      </td><td> 7      </td></tr>\n",
       "\t<tr><td>1445.563</td><td>360     </td><td>35      </td><td> 7      </td></tr>\n",
       "\t<tr><td>1188.193</td><td>270     </td><td>33      </td><td> 7      </td></tr>\n",
       "\t<tr><td> 574.513</td><td>220     </td><td>44      </td><td> 5      </td></tr>\n",
       "\t<tr><td> 568.954</td><td>170     </td><td>19      </td><td> 5      </td></tr>\n",
       "</tbody>\n",
       "</table>\n"
      ],
      "text/latex": [
       "\\begin{tabular}{r|llll}\n",
       " adverts & sales & airplay & attract\\\\\n",
       "\\hline\n",
       "\t   10.256 & 330      & 43       & 10      \\\\\n",
       "\t  985.685 & 120      & 28       &  7      \\\\\n",
       "\t 1445.563 & 360      & 35       &  7      \\\\\n",
       "\t 1188.193 & 270      & 33       &  7      \\\\\n",
       "\t  574.513 & 220      & 44       &  5      \\\\\n",
       "\t  568.954 & 170      & 19       &  5      \\\\\n",
       "\\end{tabular}\n"
      ],
      "text/markdown": [
       "\n",
       "adverts | sales | airplay | attract | \n",
       "|---|---|---|---|---|---|\n",
       "|   10.256 | 330      | 43       | 10       | \n",
       "|  985.685 | 120      | 28       |  7       | \n",
       "| 1445.563 | 360      | 35       |  7       | \n",
       "| 1188.193 | 270      | 33       |  7       | \n",
       "|  574.513 | 220      | 44       |  5       | \n",
       "|  568.954 | 170      | 19       |  5       | \n",
       "\n",
       "\n"
      ],
      "text/plain": [
       "  adverts  sales airplay attract\n",
       "1   10.256 330   43      10     \n",
       "2  985.685 120   28       7     \n",
       "3 1445.563 360   35       7     \n",
       "4 1188.193 270   33       7     \n",
       "5  574.513 220   44       5     \n",
       "6  568.954 170   19       5     "
      ]
     },
     "metadata": {},
     "output_type": "display_data"
    }
   ],
   "source": [
    "head(album2)"
   ]
  },
  {
   "cell_type": "code",
   "execution_count": 3,
   "metadata": {},
   "outputs": [],
   "source": [
    "albumSales.2 = lm(sales ~ adverts, data=album2)"
   ]
  },
  {
   "cell_type": "code",
   "execution_count": 4,
   "metadata": {},
   "outputs": [
    {
     "data": {
      "text/plain": [
       "\n",
       "Call:\n",
       "lm(formula = sales ~ adverts, data = album2)\n",
       "\n",
       "Coefficients:\n",
       "(Intercept)      adverts  \n",
       "  134.13994      0.09612  \n"
      ]
     },
     "metadata": {},
     "output_type": "display_data"
    }
   ],
   "source": [
    "albumSales.2"
   ]
  },
  {
   "cell_type": "code",
   "execution_count": 5,
   "metadata": {},
   "outputs": [
    {
     "data": {
      "text/plain": [
       "\n",
       "Call:\n",
       "lm(formula = sales ~ adverts, data = album2)\n",
       "\n",
       "Residuals:\n",
       "     Min       1Q   Median       3Q      Max \n",
       "-152.949  -43.796   -0.393   37.040  211.866 \n",
       "\n",
       "Coefficients:\n",
       "             Estimate Std. Error t value Pr(>|t|)    \n",
       "(Intercept) 1.341e+02  7.537e+00  17.799   <2e-16 ***\n",
       "adverts     9.612e-02  9.632e-03   9.979   <2e-16 ***\n",
       "---\n",
       "Signif. codes:  0 ‘***’ 0.001 ‘**’ 0.01 ‘*’ 0.05 ‘.’ 0.1 ‘ ’ 1\n",
       "\n",
       "Residual standard error: 65.99 on 198 degrees of freedom\n",
       "Multiple R-squared:  0.3346,\tAdjusted R-squared:  0.3313 \n",
       "F-statistic: 99.59 on 1 and 198 DF,  p-value: < 2.2e-16\n"
      ]
     },
     "metadata": {},
     "output_type": "display_data"
    }
   ],
   "source": [
    "summary(albumSales.2)"
   ]
  },
  {
   "cell_type": "code",
   "execution_count": 6,
   "metadata": {},
   "outputs": [],
   "source": [
    "albumSales.3 = lm(sales ~ adverts + airplay + attract, data=album2)"
   ]
  },
  {
   "cell_type": "code",
   "execution_count": 7,
   "metadata": {},
   "outputs": [
    {
     "data": {
      "text/plain": [
       "\n",
       "Call:\n",
       "lm(formula = sales ~ adverts + airplay + attract, data = album2)\n",
       "\n",
       "Coefficients:\n",
       "(Intercept)      adverts      airplay      attract  \n",
       "  -26.61296      0.08488      3.36743     11.08634  \n"
      ]
     },
     "metadata": {},
     "output_type": "display_data"
    }
   ],
   "source": [
    "albumSales.3"
   ]
  },
  {
   "cell_type": "code",
   "execution_count": 8,
   "metadata": {},
   "outputs": [
    {
     "data": {
      "text/plain": [
       "\n",
       "Call:\n",
       "lm(formula = sales ~ adverts + airplay + attract, data = album2)\n",
       "\n",
       "Coefficients:\n",
       "(Intercept)      adverts      airplay      attract  \n",
       "  -26.61296      0.08488      3.36743     11.08634  \n"
      ]
     },
     "metadata": {},
     "output_type": "display_data"
    }
   ],
   "source": [
    "albumSales.3 = update(albumSales.2, .~. + airplay + attract)\n",
    "albumSales.3"
   ]
  },
  {
   "cell_type": "code",
   "execution_count": 9,
   "metadata": {},
   "outputs": [
    {
     "name": "stderr",
     "output_type": "stream",
     "text": [
      "Loading required package: boot\n",
      "Loading required package: MASS\n",
      "\n",
      "Attaching package: ‘QuantPsyc’\n",
      "\n",
      "The following object is masked from ‘package:base’:\n",
      "\n",
      "    norm\n",
      "\n"
     ]
    }
   ],
   "source": [
    "library(QuantPsyc)"
   ]
  },
  {
   "cell_type": "code",
   "execution_count": 10,
   "metadata": {},
   "outputs": [
    {
     "data": {
      "text/html": [
       "<dl class=dl-horizontal>\n",
       "\t<dt>adverts</dt>\n",
       "\t\t<dd>0.510846225434074</dd>\n",
       "\t<dt>airplay</dt>\n",
       "\t\t<dd>0.511988143597586</dd>\n",
       "\t<dt>attract</dt>\n",
       "\t\t<dd>0.191683427305029</dd>\n",
       "</dl>\n"
      ],
      "text/latex": [
       "\\begin{description*}\n",
       "\\item[adverts] 0.510846225434074\n",
       "\\item[airplay] 0.511988143597586\n",
       "\\item[attract] 0.191683427305029\n",
       "\\end{description*}\n"
      ],
      "text/markdown": [
       "adverts\n",
       ":   0.510846225434074airplay\n",
       ":   0.511988143597586attract\n",
       ":   0.191683427305029\n",
       "\n"
      ],
      "text/plain": [
       "  adverts   airplay   attract \n",
       "0.5108462 0.5119881 0.1916834 "
      ]
     },
     "metadata": {},
     "output_type": "display_data"
    }
   ],
   "source": [
    "lm.beta(albumSales.3)"
   ]
  },
  {
   "cell_type": "code",
   "execution_count": 12,
   "metadata": {},
   "outputs": [
    {
     "data": {
      "text/html": [
       "<table>\n",
       "<thead><tr><th></th><th scope=col>2.5 %</th><th scope=col>97.5 %</th></tr></thead>\n",
       "<tbody>\n",
       "\t<tr><th scope=row>(Intercept)</th><td>-60.82960967</td><td> 7.60369295 </td></tr>\n",
       "\t<tr><th scope=row>adverts</th><td>  0.07123166</td><td> 0.09853799 </td></tr>\n",
       "\t<tr><th scope=row>airplay</th><td>  2.81962186</td><td> 3.91522848 </td></tr>\n",
       "\t<tr><th scope=row>attract</th><td>  6.27855218</td><td>15.89411823 </td></tr>\n",
       "</tbody>\n",
       "</table>\n"
      ],
      "text/latex": [
       "\\begin{tabular}{r|ll}\n",
       "  & 2.5 \\% & 97.5 \\%\\\\\n",
       "\\hline\n",
       "\t(Intercept) & -60.82960967 &  7.60369295 \\\\\n",
       "\tadverts &   0.07123166 &  0.09853799 \\\\\n",
       "\tairplay &   2.81962186 &  3.91522848 \\\\\n",
       "\tattract &   6.27855218 & 15.89411823 \\\\\n",
       "\\end{tabular}\n"
      ],
      "text/markdown": [
       "\n",
       "| <!--/--> | 2.5 % | 97.5 % | \n",
       "|---|---|---|---|\n",
       "| (Intercept) | -60.82960967 |  7.60369295  | \n",
       "| adverts |   0.07123166 |  0.09853799  | \n",
       "| airplay |   2.81962186 |  3.91522848  | \n",
       "| attract |   6.27855218 | 15.89411823  | \n",
       "\n",
       "\n"
      ],
      "text/plain": [
       "            2.5 %        97.5 %     \n",
       "(Intercept) -60.82960967  7.60369295\n",
       "adverts       0.07123166  0.09853799\n",
       "airplay       2.81962186  3.91522848\n",
       "attract       6.27855218 15.89411823"
      ]
     },
     "metadata": {},
     "output_type": "display_data"
    }
   ],
   "source": [
    "confint(albumSales.3)"
   ]
  },
  {
   "cell_type": "code",
   "execution_count": 13,
   "metadata": {},
   "outputs": [
    {
     "data": {
      "text/html": [
       "<table>\n",
       "<thead><tr><th scope=col>Res.Df</th><th scope=col>RSS</th><th scope=col>Df</th><th scope=col>Sum of Sq</th><th scope=col>F</th><th scope=col>Pr(&gt;F)</th></tr></thead>\n",
       "<tbody>\n",
       "\t<tr><td>198         </td><td>862264.2    </td><td>NA          </td><td>      NA    </td><td>      NA    </td><td>          NA</td></tr>\n",
       "\t<tr><td>196         </td><td>434574.6    </td><td> 2          </td><td>427689.6    </td><td>96.44738    </td><td>6.879395e-30</td></tr>\n",
       "</tbody>\n",
       "</table>\n"
      ],
      "text/latex": [
       "\\begin{tabular}{r|llllll}\n",
       " Res.Df & RSS & Df & Sum of Sq & F & Pr(>F)\\\\\n",
       "\\hline\n",
       "\t 198          & 862264.2     & NA           &       NA     &       NA     &           NA\\\\\n",
       "\t 196          & 434574.6     &  2           & 427689.6     & 96.44738     & 6.879395e-30\\\\\n",
       "\\end{tabular}\n"
      ],
      "text/markdown": [
       "\n",
       "Res.Df | RSS | Df | Sum of Sq | F | Pr(>F) | \n",
       "|---|---|\n",
       "| 198          | 862264.2     | NA           |       NA     |       NA     |           NA | \n",
       "| 196          | 434574.6     |  2           | 427689.6     | 96.44738     | 6.879395e-30 | \n",
       "\n",
       "\n"
      ],
      "text/plain": [
       "  Res.Df RSS      Df Sum of Sq F        Pr(>F)      \n",
       "1 198    862264.2 NA       NA        NA           NA\n",
       "2 196    434574.6  2 427689.6  96.44738 6.879395e-30"
      ]
     },
     "metadata": {},
     "output_type": "display_data"
    }
   ],
   "source": [
    "anova(albumSales.2, albumSales.3)"
   ]
  },
  {
   "cell_type": "code",
   "execution_count": null,
   "metadata": {},
   "outputs": [],
   "source": []
  }
 ],
 "metadata": {
  "kernelspec": {
   "display_name": "R",
   "language": "R",
   "name": "ir"
  },
  "language_info": {
   "codemirror_mode": "r",
   "file_extension": ".r",
   "mimetype": "text/x-r-source",
   "name": "R",
   "pygments_lexer": "r",
   "version": "3.4.4"
  }
 },
 "nbformat": 4,
 "nbformat_minor": 2
}
